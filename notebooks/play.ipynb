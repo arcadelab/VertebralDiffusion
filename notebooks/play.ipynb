{
 "cells": [
  {
   "cell_type": "code",
   "execution_count": 6,
   "metadata": {},
   "outputs": [
    {
     "data": {
      "text/plain": [
       "['/mnt/oracle_data/killeen/NMDID-ARCADE/diffusion_vertebrae_data/case_100012/torso/case-100012_26_cropped_vertebra.nii.gz',\n",
       " '/mnt/oracle_data/killeen/NMDID-ARCADE/diffusion_vertebrae_data/case_100012/torso/case-100012_27_cropped_vertebra.nii.gz',\n",
       " '/mnt/oracle_data/killeen/NMDID-ARCADE/diffusion_vertebrae_data/case_100012/torso/case-100012_28_cropped_vertebra.nii.gz',\n",
       " '/mnt/oracle_data/killeen/NMDID-ARCADE/diffusion_vertebrae_data/case_100012/torso/case-100012_29_cropped_vertebra.nii.gz',\n",
       " '/mnt/oracle_data/killeen/NMDID-ARCADE/diffusion_vertebrae_data/case_100012/torso/case-100012_30_cropped_vertebra.nii.gz',\n",
       " '/mnt/oracle_data/killeen/NMDID-ARCADE/diffusion_vertebrae_data/case_100012/torso/case-100012_31_cropped_vertebra.nii.gz',\n",
       " '/mnt/oracle_data/killeen/NMDID-ARCADE/diffusion_vertebrae_data/case_100012/torso/case-100012_32_cropped_vertebra.nii.gz',\n",
       " '/mnt/oracle_data/killeen/NMDID-ARCADE/diffusion_vertebrae_data/case_100012/torso/case-100012_33_cropped_vertebra.nii.gz',\n",
       " '/mnt/oracle_data/killeen/NMDID-ARCADE/diffusion_vertebrae_data/case_100012/torso/case-100012_34_cropped_vertebra.nii.gz',\n",
       " '/mnt/oracle_data/killeen/NMDID-ARCADE/diffusion_vertebrae_data/case_100012/torso/case-100012_35_cropped_vertebra.nii.gz',\n",
       " '/mnt/oracle_data/killeen/NMDID-ARCADE/diffusion_vertebrae_data/case_100012/torso/case-100012_36_cropped_vertebra.nii.gz',\n",
       " '/mnt/oracle_data/killeen/NMDID-ARCADE/diffusion_vertebrae_data/case_100012/torso/case-100012_37_cropped_vertebra.nii.gz',\n",
       " '/mnt/oracle_data/killeen/NMDID-ARCADE/diffusion_vertebrae_data/case_100012/torso/case-100012_38_cropped_vertebra.nii.gz',\n",
       " '/mnt/oracle_data/killeen/NMDID-ARCADE/diffusion_vertebrae_data/case_100012/torso/case-100012_39_cropped_vertebra.nii.gz',\n",
       " '/mnt/oracle_data/killeen/NMDID-ARCADE/diffusion_vertebrae_data/case_100012/torso/case-100012_40_cropped_vertebra.nii.gz',\n",
       " '/mnt/oracle_data/killeen/NMDID-ARCADE/diffusion_vertebrae_data/case_100012/torso/case-100012_41_cropped_vertebra.nii.gz',\n",
       " '/mnt/oracle_data/killeen/NMDID-ARCADE/diffusion_vertebrae_data/case_100012/torso/case-100012_42_cropped_vertebra.nii.gz',\n",
       " '/mnt/oracle_data/killeen/NMDID-ARCADE/diffusion_vertebrae_data/case_100012/torso/case-100012_43_cropped_vertebra.nii.gz',\n",
       " '/mnt/oracle_data/killeen/NMDID-ARCADE/diffusion_vertebrae_data/case_100012/torso/case-100012_44_cropped_vertebra.nii.gz',\n",
       " '/mnt/oracle_data/killeen/NMDID-ARCADE/diffusion_vertebrae_data/case_100012/torso/case-100012_45_cropped_vertebra.nii.gz']"
      ]
     },
     "execution_count": 6,
     "metadata": {},
     "output_type": "execute_result"
    }
   ],
   "source": [
    "import os\n",
    "from glob import glob\n",
    "data_dir = \"/mnt/oracle_data/killeen/NMDID-ARCADE/diffusion_vertebrae_data/case_100012/torso\"\n",
    "sorted(glob(os.path.join(data_dir, \"*.nii.gz\")))"
   ]
  }
 ],
 "metadata": {
  "kernelspec": {
   "display_name": "phelix",
   "language": "python",
   "name": "python3"
  },
  "language_info": {
   "codemirror_mode": {
    "name": "ipython",
    "version": 3
   },
   "file_extension": ".py",
   "mimetype": "text/x-python",
   "name": "python",
   "nbconvert_exporter": "python",
   "pygments_lexer": "ipython3",
   "version": "3.10.16"
  }
 },
 "nbformat": 4,
 "nbformat_minor": 2
}
